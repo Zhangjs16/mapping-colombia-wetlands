{
 "cells": [
  {
   "cell_type": "raw",
   "metadata": {},
   "source": [
    "This notebook follows the steps at:\n",
    "\n",
    "https://developers.google.com/drive/api/v3/quickstart/python\n",
    "\n",
    "Please start by visiting that page and clicking the \"Enable the Drive API\" button under \"Step 1: Turn on the Drive API:.\n",
    "\n",
    "Download the file \"credentials.json\" and store that file in this directory."
   ]
  },
  {
   "cell_type": "markdown",
   "metadata": {},
   "source": [
    "# pip install the google drive module"
   ]
  },
  {
   "cell_type": "code",
   "execution_count": 1,
   "metadata": {},
   "outputs": [
    {
     "name": "stdout",
     "output_type": "stream",
     "text": [
      "Collecting google-api-python-client\n",
      "  Downloading google_api_python_client-1.12.1-py2.py3-none-any.whl (61 kB)\n",
      "Collecting google-auth-httplib2\n",
      "  Downloading google_auth_httplib2-0.0.4-py2.py3-none-any.whl (9.1 kB)\n",
      "Requirement already up-to-date: google-auth-oauthlib in c:\\users\\ritvik\\appdata\\roaming\\python\\python37\\site-packages (0.4.1)\n",
      "Collecting google-api-core<2dev,>=1.21.0\n",
      "  Downloading google_api_core-1.22.2-py2.py3-none-any.whl (91 kB)\n",
      "Requirement already satisfied, skipping upgrade: six<2dev,>=1.13.0 in c:\\users\\ritvik\\appdata\\roaming\\python\\python37\\site-packages (from google-api-python-client) (1.14.0)\n",
      "Collecting google-auth>=1.16.0\n",
      "  Downloading google_auth-1.21.1-py2.py3-none-any.whl (93 kB)\n",
      "Requirement already satisfied, skipping upgrade: uritemplate<4dev,>=3.0.0 in c:\\users\\ritvik\\anaconda3\\lib\\site-packages (from google-api-python-client) (3.0.1)\n",
      "Requirement already satisfied, skipping upgrade: httplib2<1dev,>=0.9.2 in c:\\users\\ritvik\\anaconda3\\lib\\site-packages (from google-api-python-client) (0.15.0)\n",
      "Note: you may need to restart the kernel to use updated packages.\n",
      "Requirement already satisfied, skipping upgrade: requests-oauthlib>=0.7.0 in c:\\users\\ritvik\\appdata\\roaming\\python\\python37\\site-packages (from google-auth-oauthlib) (1.3.0)\n",
      "Requirement already satisfied, skipping upgrade: requests<3.0.0dev,>=2.18.0 in c:\\users\\ritvik\\appdata\\roaming\\python\\python37\\site-packages (from google-api-core<2dev,>=1.21.0->google-api-python-client) (2.23.0)\n",
      "Requirement already satisfied, skipping upgrade: pytz in c:\\users\\ritvik\\appdata\\roaming\\python\\python37\\site-packages (from google-api-core<2dev,>=1.21.0->google-api-python-client) (2019.3)\n",
      "Collecting protobuf>=3.12.0\n",
      "  Downloading protobuf-3.13.0-cp37-cp37m-win_amd64.whl (1.0 MB)\n",
      "Requirement already satisfied, skipping upgrade: setuptools>=34.0.0 in c:\\users\\ritvik\\appdata\\roaming\\python\\python37\\site-packages (from google-api-core<2dev,>=1.21.0->google-api-python-client) (46.1.3)\n",
      "Requirement already satisfied, skipping upgrade: googleapis-common-protos<2.0dev,>=1.6.0 in c:\\users\\ritvik\\anaconda3\\lib\\site-packages (from google-api-core<2dev,>=1.21.0->google-api-python-client) (1.51.0)\n",
      "Requirement already satisfied, skipping upgrade: cachetools<5.0,>=2.0.0 in c:\\users\\ritvik\\appdata\\roaming\\python\\python37\\site-packages (from google-auth>=1.16.0->google-api-python-client) (4.1.0)\n",
      "Requirement already satisfied, skipping upgrade: pyasn1-modules>=0.2.1 in c:\\users\\ritvik\\appdata\\roaming\\python\\python37\\site-packages (from google-auth>=1.16.0->google-api-python-client) (0.2.8)\n",
      "Requirement already satisfied, skipping upgrade: rsa<5,>=3.1.4; python_version >= \"3.5\" in c:\\users\\ritvik\\appdata\\roaming\\python\\python37\\site-packages (from google-auth>=1.16.0->google-api-python-client) (4.0)\n",
      "Requirement already satisfied, skipping upgrade: oauthlib>=3.0.0 in c:\\users\\ritvik\\appdata\\roaming\\python\\python37\\site-packages (from requests-oauthlib>=0.7.0->google-auth-oauthlib) (3.1.0)\n",
      "Requirement already satisfied, skipping upgrade: idna<3,>=2.5 in c:\\users\\ritvik\\appdata\\roaming\\python\\python37\\site-packages (from requests<3.0.0dev,>=2.18.0->google-api-core<2dev,>=1.21.0->google-api-python-client) (2.9)\n",
      "Requirement already satisfied, skipping upgrade: certifi>=2017.4.17 in c:\\users\\ritvik\\appdata\\roaming\\python\\python37\\site-packages (from requests<3.0.0dev,>=2.18.0->google-api-core<2dev,>=1.21.0->google-api-python-client) (2020.4.5.1)\n",
      "Requirement already satisfied, skipping upgrade: chardet<4,>=3.0.2 in c:\\users\\ritvik\\appdata\\roaming\\python\\python37\\site-packages (from requests<3.0.0dev,>=2.18.0->google-api-core<2dev,>=1.21.0->google-api-python-client) (3.0.4)\n",
      "Requirement already satisfied, skipping upgrade: urllib3!=1.25.0,!=1.25.1,<1.26,>=1.21.1 in c:\\users\\ritvik\\appdata\\roaming\\python\\python37\\site-packages (from requests<3.0.0dev,>=2.18.0->google-api-core<2dev,>=1.21.0->google-api-python-client) (1.25.9)\n",
      "Requirement already satisfied, skipping upgrade: pyasn1<0.5.0,>=0.4.6 in c:\\users\\ritvik\\appdata\\roaming\\python\\python37\\site-packages (from pyasn1-modules>=0.2.1->google-auth>=1.16.0->google-api-python-client) (0.4.8)\n",
      "Installing collected packages: google-auth, protobuf, google-api-core, google-auth-httplib2, google-api-python-client\n",
      "  Attempting uninstall: google-auth\n",
      "    Found existing installation: google-auth 1.14.1\n",
      "    Uninstalling google-auth-1.14.1:\n",
      "      Successfully uninstalled google-auth-1.14.1\n",
      "  Attempting uninstall: protobuf\n",
      "    Found existing installation: protobuf 3.11.3\n",
      "    Uninstalling protobuf-3.11.3:\n",
      "      Successfully uninstalled protobuf-3.11.3\n",
      "  Attempting uninstall: google-api-core\n",
      "    Found existing installation: google-api-core 1.17.0\n",
      "    Uninstalling google-api-core-1.17.0:\n",
      "      Successfully uninstalled google-api-core-1.17.0\n",
      "  Attempting uninstall: google-auth-httplib2\n",
      "    Found existing installation: google-auth-httplib2 0.0.3\n",
      "    Uninstalling google-auth-httplib2-0.0.3:\n",
      "      Successfully uninstalled google-auth-httplib2-0.0.3\n",
      "  Attempting uninstall: google-api-python-client\n",
      "    Found existing installation: google-api-python-client 1.7.11\n",
      "    Uninstalling google-api-python-client-1.7.11:\n",
      "      Successfully uninstalled google-api-python-client-1.7.11\n",
      "Successfully installed google-api-core-1.22.2 google-api-python-client-1.12.1 google-auth-1.21.1 google-auth-httplib2-0.0.4 protobuf-3.13.0\n"
     ]
    }
   ],
   "source": [
    "pip install --upgrade google-api-python-client google-auth-httplib2 google-auth-oauthlib"
   ]
  },
  {
   "cell_type": "markdown",
   "metadata": {},
   "source": [
    "# generate the token.pickle file"
   ]
  },
  {
   "cell_type": "code",
   "execution_count": 1,
   "metadata": {},
   "outputs": [
    {
     "name": "stdout",
     "output_type": "stream",
     "text": [
      "Please visit this URL to authorize this application: https://accounts.google.com/o/oauth2/auth?response_type=code&client_id=947751371502-lbdadp07re8jd2i5rbocho2lladk2vih.apps.googleusercontent.com&redirect_uri=http%3A%2F%2Flocalhost%3A50328%2F&scope=https%3A%2F%2Fwww.googleapis.com%2Fauth%2Fdrive&state=IfYv8lYhf94nxDFVxbiyJaArz5IhQR&access_type=offline\n"
     ]
    }
   ],
   "source": [
    "from __future__ import print_function\n",
    "import pickle\n",
    "import os.path\n",
    "from googleapiclient.discovery import build\n",
    "from google_auth_oauthlib.flow import InstalledAppFlow\n",
    "from google.auth.transport.requests import Request\n",
    "\n",
    "# If modifying these scopes, delete the file token.pickle.\n",
    "SCOPES = ['https://www.googleapis.com/auth/drive']\n",
    "\n",
    "def main():\n",
    "    \"\"\"Shows basic usage of the Drive v3 API.\n",
    "    Prints the names and ids of the first 10 files the user has access to.\n",
    "    \"\"\"\n",
    "    creds = None\n",
    "    # The file token.pickle stores the user's access and refresh tokens, and is\n",
    "    # created automatically when the authorization flow completes for the first\n",
    "    # time.\n",
    "    if os.path.exists('token.pickle'):\n",
    "        with open('token.pickle', 'rb') as token:\n",
    "            creds = pickle.load(token)\n",
    "    # If there are no (valid) credentials available, let the user log in.\n",
    "    if not creds or not creds.valid:\n",
    "        if creds and creds.expired and creds.refresh_token:\n",
    "            creds.refresh(Request())\n",
    "        else:\n",
    "            flow = InstalledAppFlow.from_client_secrets_file(\n",
    "                'credentials.json', SCOPES)\n",
    "            creds = flow.run_local_server(port=0)\n",
    "        # Save the credentials for the next run\n",
    "        with open('token.pickle', 'wb') as token:\n",
    "            pickle.dump(creds, token)\n",
    "\n",
    "if __name__ == '__main__':\n",
    "    main()"
   ]
  },
  {
   "cell_type": "code",
   "execution_count": null,
   "metadata": {},
   "outputs": [],
   "source": []
  }
 ],
 "metadata": {
  "kernelspec": {
   "display_name": "Python 3",
   "language": "python",
   "name": "python3"
  },
  "language_info": {
   "codemirror_mode": {
    "name": "ipython",
    "version": 3
   },
   "file_extension": ".py",
   "mimetype": "text/x-python",
   "name": "python",
   "nbconvert_exporter": "python",
   "pygments_lexer": "ipython3",
   "version": "3.7.7"
  }
 },
 "nbformat": 4,
 "nbformat_minor": 4
}
